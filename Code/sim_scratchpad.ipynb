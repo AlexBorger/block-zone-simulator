{
 "cells": [
  {
   "cell_type": "markdown",
   "metadata": {
    "collapsed": true,
    "jupyter": {
     "outputs_hidden": true
    }
   },
   "source": [
    "# Block Zone Simulator\n",
    "\n",
    "This notebook / repo will be used to play around with block zone configurations and run simulations to determine the theoretical and practical capacity of an attraction."
   ]
  },
  {
   "cell_type": "code",
   "execution_count": 1,
   "metadata": {
    "scrolled": true
   },
   "outputs": [],
   "source": [
    "# define blocks\n",
    "\n",
    "blocks = {\n",
    "    'station': {\n",
    "        'next_block': 'lift 1',\n",
    "        'seconds_to_reach_block': 8,\n",
    "        'seconds_to_clear_from_held': 6,\n",
    "        'seconds_to_clear_block_in_motion': None,\n",
    "        'is_occupied': False,\n",
    "        'can_operate_from_stop': True,\n",
    "        'mandatory_hold': True,\n",
    "        'hold_time': 38\n",
    "    },\n",
    "    'lift 1': {\n",
    "        'next_block': 'gravity 1',\n",
    "        'seconds_to_reach_block': 18,\n",
    "        'seconds_to_clear_from_held': 8,\n",
    "        'seconds_to_clear_block_in_motion': 7,\n",
    "        'is_occupied': False,\n",
    "        'can_operate_from_stop': True,\n",
    "        'mandatory_hold': False,\n",
    "        'hold_time': None\n",
    "    },\n",
    "    'gravity 1': {\n",
    "        'next_block': 'lift 2',\n",
    "        'seconds_to_reach_block': 30,\n",
    "        'seconds_to_clear_from_held': 6,\n",
    "        'seconds_to_clear_block_in_motion': 3,\n",
    "        'is_occupied': False,\n",
    "        'can_operate_from_stop': True,\n",
    "        'mandatory_hold': False,\n",
    "        'hold_time': None\n",
    "    },\n",
    "    'lift 2': {\n",
    "        'next_block': 'gravity 2',\n",
    "        'seconds_to_reach_block': 20,\n",
    "        'seconds_to_clear_from_held': 8,\n",
    "        'seconds_to_clear_block_in_motion': 7,\n",
    "        'is_occupied': False,\n",
    "        'can_operate_from_stop': True,\n",
    "        'mandatory_hold': False,\n",
    "        'hold_time': None\n",
    "    },\n",
    "    'gravity 2': {\n",
    "        'next_block': 'final block 1',\n",
    "        'seconds_to_reach_block': 22,\n",
    "        'seconds_to_clear_from_held': 6,\n",
    "        'seconds_to_clear_block_in_motion': 3,\n",
    "        'is_occupied': False,\n",
    "        'can_operate_from_stop': True,\n",
    "        'mandatory_hold': False,\n",
    "        'hold_time': None\n",
    "    },\n",
    "    'final block 1': {\n",
    "        'next_block': 'station',\n",
    "        'seconds_to_reach_block': 8,\n",
    "        'seconds_to_clear_from_held': 6,\n",
    "        'seconds_to_clear_block_in_motion': 3,\n",
    "        'is_occupied': False,\n",
    "        'can_operate_from_stop': True,\n",
    "        'mandatory_hold': False,\n",
    "        'hold_time': None\n",
    "    }\n",
    "}\n",
    "\n"
   ]
  },
  {
   "cell_type": "code",
   "execution_count": 2,
   "metadata": {},
   "outputs": [],
   "source": [
    "from circuit import Circuit\n",
    "\n",
    "circuit = Circuit(blocks, num_trains=4)"
   ]
  },
  {
   "cell_type": "code",
   "execution_count": 3,
   "metadata": {},
   "outputs": [],
   "source": [
    "# run the sim\n",
    "for _ in range(36000):\n",
    "    circuit.step()"
   ]
  },
  {
   "cell_type": "code",
   "execution_count": 4,
   "metadata": {},
   "outputs": [
    {
     "data": {
      "text/plain": [
       "{'train 0': <train.Train at 0x268f89c5ac8>,\n",
       " 'train 1': <train.Train at 0x268f89c5b70>,\n",
       " 'train 2': <train.Train at 0x268f89c5be0>,\n",
       " 'train 3': <train.Train at 0x268f89c5c50>}"
      ]
     },
     "execution_count": 4,
     "metadata": {},
     "output_type": "execute_result"
    }
   ],
   "source": [
    "#trains\n",
    "circuit.trains"
   ]
  },
  {
   "cell_type": "code",
   "execution_count": 5,
   "metadata": {},
   "outputs": [
    {
     "name": "stdout",
     "output_type": "stream",
     "text": [
      "22.65\n",
      "22.73\n",
      "22.73\n",
      "22.64\n"
     ]
    }
   ],
   "source": [
    "# question - what percent of the sim run time did each train sit idle?\n",
    "for train_name in circuit.trains:\n",
    "    print(round(100*circuit.trains[train_name].total_seconds_held / circuit.time, 2))\n",
    "    \n",
    "# if we set run time to 1 million seconds, they all converge to 17.65% idle."
   ]
  },
  {
   "cell_type": "code",
   "execution_count": 7,
   "metadata": {
    "scrolled": true
   },
   "outputs": [
    {
     "data": {
      "text/plain": [
       "{'station': <block.Block at 0x268f89c5588>,\n",
       " 'lift 1': <block.Block at 0x268f89c59e8>,\n",
       " 'gravity 1': <block.Block at 0x268f89c5898>,\n",
       " 'lift 2': <block.Block at 0x268f89c58d0>,\n",
       " 'gravity 2': <block.Block at 0x268f89c5908>,\n",
       " 'final block 1': <block.Block at 0x268f89c5e10>}"
      ]
     },
     "execution_count": 7,
     "metadata": {},
     "output_type": "execute_result"
    }
   ],
   "source": [
    "circuit.blocks"
   ]
  },
  {
   "cell_type": "code",
   "execution_count": 9,
   "metadata": {},
   "outputs": [
    {
     "data": {
      "text/plain": [
       "1377.6"
      ]
     },
     "execution_count": 9,
     "metadata": {},
     "output_type": "execute_result"
    }
   ],
   "source": [
    "num_riders_per_train = 24\n",
    "avg_cycles_completed = sum([circuit.trains[train].circuits_completed for train in circuit.trains]) / len(circuit.trains)\n",
    "avg_cycles_per_hour = avg_cycles_completed * 3600 / circuit.time\n",
    "total_cycles_per_hour = avg_cycles_per_hour * len(circuit.trains)\n",
    "total_hourly_capacity = num_riders_per_train * total_cycles_per_hour\n",
    "total_hourly_capacity # 463 (1) 928.8 (2) 1394 (3) 1378 (4)"
   ]
  },
  {
   "cell_type": "code",
   "execution_count": null,
   "metadata": {},
   "outputs": [],
   "source": []
  },
  {
   "cell_type": "code",
   "execution_count": null,
   "metadata": {},
   "outputs": [],
   "source": []
  },
  {
   "cell_type": "code",
   "execution_count": null,
   "metadata": {},
   "outputs": [],
   "source": []
  }
 ],
 "metadata": {
  "kernelspec": {
   "display_name": "Python 3",
   "language": "python",
   "name": "python3"
  },
  "language_info": {
   "codemirror_mode": {
    "name": "ipython",
    "version": 3
   },
   "file_extension": ".py",
   "mimetype": "text/x-python",
   "name": "python",
   "nbconvert_exporter": "python",
   "pygments_lexer": "ipython3",
   "version": "3.6.8"
  }
 },
 "nbformat": 4,
 "nbformat_minor": 4
}