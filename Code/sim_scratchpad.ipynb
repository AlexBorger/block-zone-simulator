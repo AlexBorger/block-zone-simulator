{
 "cells": [
  {
   "cell_type": "markdown",
   "metadata": {
    "collapsed": true,
    "jupyter": {
     "outputs_hidden": true
    }
   },
   "source": [
    "# Block Zone Simulator\n",
    "\n",
    "This notebook / repo will be used to play around with block zone configurations and run simulations to determine the theoretical and practical capacity of an attraction."
   ]
  },
  {
   "cell_type": "code",
   "execution_count": 1,
   "metadata": {
    "scrolled": true
   },
   "outputs": [],
   "source": [
    "# define blocks\n",
    "\n",
    "blocks = {\n",
    "    'station': {\n",
    "        'next_block': 'lift 1',\n",
    "        'seconds_to_reach_block': 8,\n",
    "        'seconds_to_clear_from_held': 6,\n",
    "        'seconds_to_clear_block_in_motion': None,\n",
    "        'is_occupied': False,\n",
    "        'can_operate_from_stop': True,\n",
    "        'mandatory_hold': True,\n",
    "        'hold_time': 38\n",
    "    },\n",
    "    'lift 1': {\n",
    "        'next_block': 'gravity 1',\n",
    "        'seconds_to_reach_block': 18,\n",
    "        'seconds_to_clear_from_held': 8,\n",
    "        'seconds_to_clear_block_in_motion': 7,\n",
    "        'is_occupied': False,\n",
    "        'can_operate_from_stop': True,\n",
    "        'mandatory_hold': False,\n",
    "        'hold_time': None\n",
    "    },\n",
    "    'gravity 1': {\n",
    "        'next_block': 'lift 2',\n",
    "        'seconds_to_reach_block': 30,\n",
    "        'seconds_to_clear_from_held': 6,\n",
    "        'seconds_to_clear_block_in_motion': 3,\n",
    "        'is_occupied': False,\n",
    "        'can_operate_from_stop': True,\n",
    "        'mandatory_hold': False,\n",
    "        'hold_time': None\n",
    "    },\n",
    "    'lift 2': {\n",
    "        'next_block': 'gravity 2',\n",
    "        'seconds_to_reach_block': 20,\n",
    "        'seconds_to_clear_from_held': 8,\n",
    "        'seconds_to_clear_block_in_motion': 7,\n",
    "        'is_occupied': False,\n",
    "        'can_operate_from_stop': True,\n",
    "        'mandatory_hold': False,\n",
    "        'hold_time': None\n",
    "    },\n",
    "    'gravity 2': {\n",
    "        'next_block': 'final block 1',\n",
    "        'seconds_to_reach_block': 22,\n",
    "        'seconds_to_clear_from_held': 6,\n",
    "        'seconds_to_clear_block_in_motion': 3,\n",
    "        'is_occupied': False,\n",
    "        'can_operate_from_stop': True,\n",
    "        'mandatory_hold': False,\n",
    "        'hold_time': None\n",
    "    },\n",
    "    'final block 1': {\n",
    "        'next_block': 'station',\n",
    "        'seconds_to_reach_block': 8,\n",
    "        'seconds_to_clear_from_held': 6,\n",
    "        'seconds_to_clear_block_in_motion': 3,\n",
    "        'is_occupied': False,\n",
    "        'can_operate_from_stop': True,\n",
    "        'mandatory_hold': False,\n",
    "        'hold_time': None\n",
    "    }\n",
    "}\n",
    "\n",
    "# define optional params\n",
    "optional_params = {\n",
    "    'sluggishness': True,\n",
    "    'sluggishness_mu': 1.5,\n",
    "    'sluggishness_sigma': 0.6,\n",
    "    'random_seed': 10\n",
    "}"
   ]
  },
  {
   "cell_type": "code",
   "execution_count": 6,
   "metadata": {},
   "outputs": [],
   "source": [
    "from circuit import Circuit\n",
    "\n",
    "circuit = Circuit(blocks, num_trains=4, optional_params=optional_params)"
   ]
  },
  {
   "cell_type": "code",
   "execution_count": 7,
   "metadata": {},
   "outputs": [],
   "source": [
    "# run the sim\n",
    "for _ in range(36000):\n",
    "    circuit.step()"
   ]
  },
  {
   "cell_type": "code",
   "execution_count": 8,
   "metadata": {},
   "outputs": [
    {
     "data": {
      "text/plain": [
       "{'train 0': <train.Train at 0x2c3a4cea4e0>,\n",
       " 'train 1': <train.Train at 0x2c3a4cea860>,\n",
       " 'train 2': <train.Train at 0x2c3a4cea978>,\n",
       " 'train 3': <train.Train at 0x2c3a4cea9e8>}"
      ]
     },
     "execution_count": 8,
     "metadata": {},
     "output_type": "execute_result"
    }
   ],
   "source": [
    "#trains\n",
    "circuit.trains"
   ]
  },
  {
   "cell_type": "code",
   "execution_count": 9,
   "metadata": {},
   "outputs": [
    {
     "name": "stdout",
     "output_type": "stream",
     "text": [
      "26.16\n",
      "26.34\n",
      "26.16\n",
      "26.24\n"
     ]
    }
   ],
   "source": [
    "# question - what percent of the sim run time did each train sit idle?\n",
    "for train_name in circuit.trains:\n",
    "    print(round(100*circuit.trains[train_name].total_seconds_held / circuit.time, 2))\n",
    "    \n",
    "# if we set run time to 1 million seconds, they all converge to the same % idle."
   ]
  },
  {
   "cell_type": "code",
   "execution_count": 10,
   "metadata": {
    "scrolled": true
   },
   "outputs": [
    {
     "data": {
      "text/plain": [
       "{'station': <block.Block at 0x2c3a4cea668>,\n",
       " 'lift 1': <block.Block at 0x2c3a4cea6d8>,\n",
       " 'gravity 1': <block.Block at 0x2c3a4cea5c0>,\n",
       " 'lift 2': <block.Block at 0x2c3a4cea7f0>,\n",
       " 'gravity 2': <block.Block at 0x2c3a4cea588>,\n",
       " 'final block 1': <block.Block at 0x2c3a4cea4a8>}"
      ]
     },
     "execution_count": 10,
     "metadata": {},
     "output_type": "execute_result"
    }
   ],
   "source": [
    "circuit.blocks"
   ]
  },
  {
   "cell_type": "code",
   "execution_count": 11,
   "metadata": {},
   "outputs": [
    {
     "data": {
      "text/plain": [
       "1274.4"
      ]
     },
     "execution_count": 11,
     "metadata": {},
     "output_type": "execute_result"
    }
   ],
   "source": [
    "num_riders_per_train = 24\n",
    "avg_cycles_completed = sum([circuit.trains[train].circuits_completed for train in circuit.trains]) / len(circuit.trains)\n",
    "avg_cycles_per_hour = avg_cycles_completed * 3600 / circuit.time\n",
    "total_cycles_per_hour = avg_cycles_per_hour * len(circuit.trains)\n",
    "total_hourly_capacity = num_riders_per_train * total_cycles_per_hour\n",
    "total_hourly_capacity # 463 (1) 928.8 (2) 1394 (3) 1378 (4)"
   ]
  },
  {
   "cell_type": "code",
   "execution_count": 12,
   "metadata": {},
   "outputs": [],
   "source": [
    "import random\n",
    "import numpy as np\n",
    "\n",
    "rng = np.random.default_rng(10)\n"
   ]
  },
  {
   "cell_type": "code",
   "execution_count": 45,
   "metadata": {},
   "outputs": [
    {
     "name": "stdout",
     "output_type": "stream",
     "text": [
      "mean sluggishness:\t 5.359\n",
      "0th percentile: \t0.363\n",
      "25th percentile: \t2.996\n",
      "50th percentile: \t4.482\n",
      "75th percentile: \t6.71\n",
      "100th percentile: \t56.16\n"
     ]
    },
    {
     "data": {
      "image/png": "[encoded data removed]",
      "text/plain": [
       "<Figure size 432x288 with 1 Axes>"
      ]
     },
     "metadata": {
      "needs_background": "light"
     },
     "output_type": "display_data"
    }
   ],
   "source": [
    "from matplotlib import pyplot as plt\n",
    "\n",
    "simulated_sluggishness = rng.lognormal(mean=1.5, sigma=0.6, size=100000)\n",
    "print(f\"mean sluggishness:\\t {round(simulated_sluggishness.mean(),3)}\")\n",
    "for p in [0, 25, 50, 75, 100]:\n",
    "    print(f\"{p}th percentile: \\t{round(np.percentile(simulated_sluggishness,p),3)}\")\n",
    "\n",
    "plt.hist(simulated_sluggishness, bins=100)\n",
    "plt.show()\n",
    "\n",
    "# lognormal distribution with mean=1.5 and sigma=0.6 seems to give realistic load time slowdowns.\n",
    "# mean is 5.34, or approx. 5 seconds above theoretical dispatch\n"
   ]
  },
  {
   "cell_type": "markdown",
   "metadata": {},
   "source": [
    "## Example Study\n",
    "\n",
    "### Comparing Theoretical vs. Actual Capacity\n",
    "\n",
    "Using the toy example in this notebook, we can compare theoretical vs actual capacity with both simulated load/unload sluggishness and perfect dispatches."
   ]
  },
  {
   "cell_type": "code",
   "execution_count": 21,
   "metadata": {},
   "outputs": [
    {
     "data": {
      "text/html": [
       "<div>\n",
       "<style scoped>\n",
       "    .dataframe tbody tr th:only-of-type {\n",
       "        vertical-align: middle;\n",
       "    }\n",
       "\n",
       "    .dataframe tbody tr th {\n",
       "        vertical-align: top;\n",
       "    }\n",
       "\n",
       "    .dataframe thead th {\n",
       "        text-align: right;\n",
       "    }\n",
       "</style>\n",
       "<table border=\"1\" class=\"dataframe\">\n",
       "  <thead>\n",
       "    <tr style=\"text-align: right;\">\n",
       "      <th></th>\n",
       "      <th>num_trains</th>\n",
       "      <th>theoretical_capacity</th>\n",
       "      <th>actual_capacity</th>\n",
       "      <th>theoretical_idle_percents</th>\n",
       "      <th>actual_idle_percents</th>\n",
       "    </tr>\n",
       "  </thead>\n",
       "  <tbody>\n",
       "    <tr>\n",
       "      <th>0</th>\n",
       "      <td>1</td>\n",
       "      <td>463.2</td>\n",
       "      <td>453.6</td>\n",
       "      <td>0.00</td>\n",
       "      <td>0.00</td>\n",
       "    </tr>\n",
       "    <tr>\n",
       "      <th>1</th>\n",
       "      <td>2</td>\n",
       "      <td>928.8</td>\n",
       "      <td>904.8</td>\n",
       "      <td>0.00</td>\n",
       "      <td>0.04</td>\n",
       "    </tr>\n",
       "    <tr>\n",
       "      <th>2</th>\n",
       "      <td>3</td>\n",
       "      <td>1394.4</td>\n",
       "      <td>1276.8</td>\n",
       "      <td>0.01</td>\n",
       "      <td>3.95</td>\n",
       "    </tr>\n",
       "    <tr>\n",
       "      <th>3</th>\n",
       "      <td>4</td>\n",
       "      <td>1377.6</td>\n",
       "      <td>1274.4</td>\n",
       "      <td>22.69</td>\n",
       "      <td>26.23</td>\n",
       "    </tr>\n",
       "    <tr>\n",
       "      <th>4</th>\n",
       "      <td>5</td>\n",
       "      <td>1375.2</td>\n",
       "      <td>1274.4</td>\n",
       "      <td>35.67</td>\n",
       "      <td>38.94</td>\n",
       "    </tr>\n",
       "  </tbody>\n",
       "</table>\n",
       "</div>"
      ],
      "text/plain": [
       "   num_trains  theoretical_capacity  actual_capacity  \\\n",
       "0           1                 463.2            453.6   \n",
       "1           2                 928.8            904.8   \n",
       "2           3                1394.4           1276.8   \n",
       "3           4                1377.6           1274.4   \n",
       "4           5                1375.2           1274.4   \n",
       "\n",
       "   theoretical_idle_percents  actual_idle_percents  \n",
       "0                       0.00                  0.00  \n",
       "1                       0.00                  0.04  \n",
       "2                       0.01                  3.95  \n",
       "3                      22.69                 26.23  \n",
       "4                      35.67                 38.94  "
      ]
     },
     "execution_count": 21,
     "metadata": {},
     "output_type": "execute_result"
    }
   ],
   "source": [
    "from circuit import Circuit\n",
    "import numpy as np\n",
    "import pandas as pd\n",
    "\n",
    "blocks = {\n",
    "    'station': {\n",
    "        'next_block': 'lift 1',\n",
    "        'seconds_to_reach_block': 8,\n",
    "        'seconds_to_clear_from_held': 6,\n",
    "        'seconds_to_clear_block_in_motion': None,\n",
    "        'is_occupied': False,\n",
    "        'can_operate_from_stop': True,\n",
    "        'mandatory_hold': True,\n",
    "        'hold_time': 38\n",
    "    },\n",
    "    'lift 1': {\n",
    "        'next_block': 'gravity 1',\n",
    "        'seconds_to_reach_block': 18,\n",
    "        'seconds_to_clear_from_held': 8,\n",
    "        'seconds_to_clear_block_in_motion': 7,\n",
    "        'is_occupied': False,\n",
    "        'can_operate_from_stop': True,\n",
    "        'mandatory_hold': False,\n",
    "        'hold_time': None\n",
    "    },\n",
    "    'gravity 1': {\n",
    "        'next_block': 'lift 2',\n",
    "        'seconds_to_reach_block': 30,\n",
    "        'seconds_to_clear_from_held': 6,\n",
    "        'seconds_to_clear_block_in_motion': 3,\n",
    "        'is_occupied': False,\n",
    "        'can_operate_from_stop': True,\n",
    "        'mandatory_hold': False,\n",
    "        'hold_time': None\n",
    "    },\n",
    "    'lift 2': {\n",
    "        'next_block': 'gravity 2',\n",
    "        'seconds_to_reach_block': 20,\n",
    "        'seconds_to_clear_from_held': 8,\n",
    "        'seconds_to_clear_block_in_motion': 7,\n",
    "        'is_occupied': False,\n",
    "        'can_operate_from_stop': True,\n",
    "        'mandatory_hold': False,\n",
    "        'hold_time': None\n",
    "    },\n",
    "    'gravity 2': {\n",
    "        'next_block': 'final block 1',\n",
    "        'seconds_to_reach_block': 22,\n",
    "        'seconds_to_clear_from_held': 6,\n",
    "        'seconds_to_clear_block_in_motion': 3,\n",
    "        'is_occupied': False,\n",
    "        'can_operate_from_stop': True,\n",
    "        'mandatory_hold': False,\n",
    "        'hold_time': None\n",
    "    },\n",
    "    'final block 1': {\n",
    "        'next_block': 'station',\n",
    "        'seconds_to_reach_block': 8,\n",
    "        'seconds_to_clear_from_held': 6,\n",
    "        'seconds_to_clear_block_in_motion': 3,\n",
    "        'is_occupied': False,\n",
    "        'can_operate_from_stop': True,\n",
    "        'mandatory_hold': False,\n",
    "        'hold_time': None\n",
    "    }\n",
    "}\n",
    "\n",
    "optional_params = {\n",
    "    'sluggishness': True,\n",
    "    'sluggishness_mu': 1.5,\n",
    "    'sluggishness_sigma': 0.6,\n",
    "    'random_seed': 10\n",
    "}\n",
    "\n",
    "def calculate_hourly_capacity(vehicle_capacity, circuit):\n",
    "    avg_cycles_completed = sum([circuit.trains[train].circuits_completed for train in circuit.trains]) / len(circuit.trains)\n",
    "    avg_cycles_per_hour = avg_cycles_completed * 3600 / circuit.time\n",
    "    total_cycles_per_hour = avg_cycles_per_hour * len(circuit.trains)\n",
    "    total_hourly_capacity = vehicle_capacity * total_cycles_per_hour\n",
    "    return total_hourly_capacity\n",
    "\n",
    "theoretical_capacities = []\n",
    "theoretical_idle_percents = []\n",
    "actual_capacities = []\n",
    "actual_idle_percents = []\n",
    "\n",
    "sim_run_time = 36000  # 10 hours (60s * 60min * 10hr)\n",
    "\n",
    "for n in [1, 2, 3, 4, 5]:\n",
    "    # run without sluggishness\n",
    "    optional_params['sluggishness'] = False\n",
    "    circuit = Circuit(blocks, num_trains=n, optional_params=optional_params)\n",
    "    for _ in range(sim_run_time):\n",
    "        circuit.step()\n",
    "    # analyze results\n",
    "    theoretical_capacities.append(calculate_hourly_capacity(vehicle_capacity=24, circuit=circuit))\n",
    "    train_idles = []\n",
    "    for train_name in circuit.trains:\n",
    "        train_idles.append(100*circuit.trains[train_name].total_seconds_held / circuit.time)\n",
    "    theoretical_idle_percents.append(round(np.mean(train_idles),2))\n",
    "    # run again with sluggishness\n",
    "    optional_params['sluggishness'] = True\n",
    "    circuit = Circuit(blocks, num_trains=n, optional_params=optional_params)\n",
    "    for _ in range(sim_run_time):\n",
    "        circuit.step()\n",
    "    actual_capacities.append(calculate_hourly_capacity(vehicle_capacity=24, circuit=circuit))\n",
    "    train_idles = []\n",
    "    for train_name in circuit.trains:\n",
    "        train_idles.append(100*circuit.trains[train_name].total_seconds_held / circuit.time)\n",
    "    actual_idle_percents.append(round(np.mean(train_idles),2))\n",
    "\n",
    "df = pd.DataFrame({\n",
    "    'num_trains': list(range(1,6)),\n",
    "    'theoretical_capacity': theoretical_capacities,\n",
    "    'actual_capacity': actual_capacities,\n",
    "    'theoretical_idle_percents': theoretical_idle_percents,\n",
    "    'actual_idle_percents': actual_idle_percents\n",
    "})\n",
    "\n",
    "df"
   ]
  },
  {
   "cell_type": "markdown",
   "metadata": {},
   "source": [
    "From the above results, we can see that the highest theoretical capacity for this circuit with 6 complete block zones is 1,394 riders per hour, when operating 3 trains.  Operating four or more trains slightly decreases this theoretical capacity.  Adding dispatch delay times to the simulation shows a decrease in achieved throughput of approximately 117 riders per hour for a total capacity of 1,277 riders per hour.\n",
    "\n",
    "Operating 3 trains over 6 blocks should result in smooth operations with no unnecessary idle time.  Adding simulated dispatch delay introduces some unnecessary delay to the system, but a further investigation into which block zones experience these extra holds is warranted."
   ]
  }
 ],
 "metadata": {
  "kernelspec": {
   "display_name": "Python 3",
   "language": "python",
   "name": "python3"
  },
  "language_info": {
   "codemirror_mode": {
    "name": "ipython",
    "version": 3
   },
   "file_extension": ".py",
   "mimetype": "text/x-python",
   "name": "python",
   "nbconvert_exporter": "python",
   "pygments_lexer": "ipython3",
   "version": "3.6.8"
  }
 },
 "nbformat": 4,
 "nbformat_minor": 4
}